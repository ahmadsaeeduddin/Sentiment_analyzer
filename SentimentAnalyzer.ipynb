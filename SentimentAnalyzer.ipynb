{
 "cells": [
  {
   "cell_type": "code",
   "execution_count": 1,
   "id": "8269da53-b5e0-41d7-b812-9b769eb90af6",
   "metadata": {},
   "outputs": [],
   "source": [
    "import tensorflow as tf\n",
    "import nltk\n",
    "import numpy as np\n",
    "import pandas as pd\n",
    "from sklearn.model_selection import train_test_split"
   ]
  },
  {
   "cell_type": "code",
   "execution_count": 2,
   "id": "f312d5f9-ea3a-49a9-90a0-dbf8dce150fd",
   "metadata": {},
   "outputs": [],
   "source": [
    "data = pd.read_csv('twitter_training.csv')"
   ]
  },
  {
   "cell_type": "code",
   "execution_count": 3,
   "id": "7c0642f4-041f-4df8-8ed3-436e6a5c19c9",
   "metadata": {},
   "outputs": [
    {
     "data": {
      "text/html": [
       "<div>\n",
       "<style scoped>\n",
       "    .dataframe tbody tr th:only-of-type {\n",
       "        vertical-align: middle;\n",
       "    }\n",
       "\n",
       "    .dataframe tbody tr th {\n",
       "        vertical-align: top;\n",
       "    }\n",
       "\n",
       "    .dataframe thead th {\n",
       "        text-align: right;\n",
       "    }\n",
       "</style>\n",
       "<table border=\"1\" class=\"dataframe\">\n",
       "  <thead>\n",
       "    <tr style=\"text-align: right;\">\n",
       "      <th></th>\n",
       "      <th>2401</th>\n",
       "      <th>Borderlands</th>\n",
       "      <th>Positive</th>\n",
       "      <th>im getting on borderlands and i will murder you all ,</th>\n",
       "    </tr>\n",
       "  </thead>\n",
       "  <tbody>\n",
       "    <tr>\n",
       "      <th>0</th>\n",
       "      <td>2401</td>\n",
       "      <td>Borderlands</td>\n",
       "      <td>Positive</td>\n",
       "      <td>I am coming to the borders and I will kill you...</td>\n",
       "    </tr>\n",
       "    <tr>\n",
       "      <th>1</th>\n",
       "      <td>2401</td>\n",
       "      <td>Borderlands</td>\n",
       "      <td>Positive</td>\n",
       "      <td>im getting on borderlands and i will kill you ...</td>\n",
       "    </tr>\n",
       "    <tr>\n",
       "      <th>2</th>\n",
       "      <td>2401</td>\n",
       "      <td>Borderlands</td>\n",
       "      <td>Positive</td>\n",
       "      <td>im coming on borderlands and i will murder you...</td>\n",
       "    </tr>\n",
       "    <tr>\n",
       "      <th>3</th>\n",
       "      <td>2401</td>\n",
       "      <td>Borderlands</td>\n",
       "      <td>Positive</td>\n",
       "      <td>im getting on borderlands 2 and i will murder ...</td>\n",
       "    </tr>\n",
       "    <tr>\n",
       "      <th>4</th>\n",
       "      <td>2401</td>\n",
       "      <td>Borderlands</td>\n",
       "      <td>Positive</td>\n",
       "      <td>im getting into borderlands and i can murder y...</td>\n",
       "    </tr>\n",
       "    <tr>\n",
       "      <th>5</th>\n",
       "      <td>2402</td>\n",
       "      <td>Borderlands</td>\n",
       "      <td>Positive</td>\n",
       "      <td>So I spent a few hours making something for fu...</td>\n",
       "    </tr>\n",
       "    <tr>\n",
       "      <th>6</th>\n",
       "      <td>2402</td>\n",
       "      <td>Borderlands</td>\n",
       "      <td>Positive</td>\n",
       "      <td>So I spent a couple of hours doing something f...</td>\n",
       "    </tr>\n",
       "    <tr>\n",
       "      <th>7</th>\n",
       "      <td>2402</td>\n",
       "      <td>Borderlands</td>\n",
       "      <td>Positive</td>\n",
       "      <td>So I spent a few hours doing something for fun...</td>\n",
       "    </tr>\n",
       "    <tr>\n",
       "      <th>8</th>\n",
       "      <td>2402</td>\n",
       "      <td>Borderlands</td>\n",
       "      <td>Positive</td>\n",
       "      <td>So I spent a few hours making something for fu...</td>\n",
       "    </tr>\n",
       "    <tr>\n",
       "      <th>9</th>\n",
       "      <td>2402</td>\n",
       "      <td>Borderlands</td>\n",
       "      <td>Positive</td>\n",
       "      <td>2010 So I spent a few hours making something f...</td>\n",
       "    </tr>\n",
       "  </tbody>\n",
       "</table>\n",
       "</div>"
      ],
      "text/plain": [
       "   2401  Borderlands  Positive  \\\n",
       "0  2401  Borderlands  Positive   \n",
       "1  2401  Borderlands  Positive   \n",
       "2  2401  Borderlands  Positive   \n",
       "3  2401  Borderlands  Positive   \n",
       "4  2401  Borderlands  Positive   \n",
       "5  2402  Borderlands  Positive   \n",
       "6  2402  Borderlands  Positive   \n",
       "7  2402  Borderlands  Positive   \n",
       "8  2402  Borderlands  Positive   \n",
       "9  2402  Borderlands  Positive   \n",
       "\n",
       "  im getting on borderlands and i will murder you all ,  \n",
       "0  I am coming to the borders and I will kill you...     \n",
       "1  im getting on borderlands and i will kill you ...     \n",
       "2  im coming on borderlands and i will murder you...     \n",
       "3  im getting on borderlands 2 and i will murder ...     \n",
       "4  im getting into borderlands and i can murder y...     \n",
       "5  So I spent a few hours making something for fu...     \n",
       "6  So I spent a couple of hours doing something f...     \n",
       "7  So I spent a few hours doing something for fun...     \n",
       "8  So I spent a few hours making something for fu...     \n",
       "9  2010 So I spent a few hours making something f...     "
      ]
     },
     "execution_count": 3,
     "metadata": {},
     "output_type": "execute_result"
    }
   ],
   "source": [
    "data.head(10)"
   ]
  },
  {
   "cell_type": "code",
   "execution_count": 4,
   "id": "1e2357f6-ac5c-48e5-9ad6-919cf08a04c3",
   "metadata": {},
   "outputs": [],
   "source": [
    "data.columns = ['id', 'company', 'Sentiment', 'Review']"
   ]
  },
  {
   "cell_type": "code",
   "execution_count": 5,
   "id": "6a230ce5-2970-4284-accf-1f4499f439f4",
   "metadata": {},
   "outputs": [
    {
     "data": {
      "text/html": [
       "<div>\n",
       "<style scoped>\n",
       "    .dataframe tbody tr th:only-of-type {\n",
       "        vertical-align: middle;\n",
       "    }\n",
       "\n",
       "    .dataframe tbody tr th {\n",
       "        vertical-align: top;\n",
       "    }\n",
       "\n",
       "    .dataframe thead th {\n",
       "        text-align: right;\n",
       "    }\n",
       "</style>\n",
       "<table border=\"1\" class=\"dataframe\">\n",
       "  <thead>\n",
       "    <tr style=\"text-align: right;\">\n",
       "      <th></th>\n",
       "      <th>id</th>\n",
       "      <th>company</th>\n",
       "      <th>Sentiment</th>\n",
       "      <th>Review</th>\n",
       "    </tr>\n",
       "  </thead>\n",
       "  <tbody>\n",
       "    <tr>\n",
       "      <th>0</th>\n",
       "      <td>2401</td>\n",
       "      <td>Borderlands</td>\n",
       "      <td>Positive</td>\n",
       "      <td>I am coming to the borders and I will kill you...</td>\n",
       "    </tr>\n",
       "    <tr>\n",
       "      <th>1</th>\n",
       "      <td>2401</td>\n",
       "      <td>Borderlands</td>\n",
       "      <td>Positive</td>\n",
       "      <td>im getting on borderlands and i will kill you ...</td>\n",
       "    </tr>\n",
       "    <tr>\n",
       "      <th>2</th>\n",
       "      <td>2401</td>\n",
       "      <td>Borderlands</td>\n",
       "      <td>Positive</td>\n",
       "      <td>im coming on borderlands and i will murder you...</td>\n",
       "    </tr>\n",
       "    <tr>\n",
       "      <th>3</th>\n",
       "      <td>2401</td>\n",
       "      <td>Borderlands</td>\n",
       "      <td>Positive</td>\n",
       "      <td>im getting on borderlands 2 and i will murder ...</td>\n",
       "    </tr>\n",
       "    <tr>\n",
       "      <th>4</th>\n",
       "      <td>2401</td>\n",
       "      <td>Borderlands</td>\n",
       "      <td>Positive</td>\n",
       "      <td>im getting into borderlands and i can murder y...</td>\n",
       "    </tr>\n",
       "  </tbody>\n",
       "</table>\n",
       "</div>"
      ],
      "text/plain": [
       "     id      company Sentiment  \\\n",
       "0  2401  Borderlands  Positive   \n",
       "1  2401  Borderlands  Positive   \n",
       "2  2401  Borderlands  Positive   \n",
       "3  2401  Borderlands  Positive   \n",
       "4  2401  Borderlands  Positive   \n",
       "\n",
       "                                              Review  \n",
       "0  I am coming to the borders and I will kill you...  \n",
       "1  im getting on borderlands and i will kill you ...  \n",
       "2  im coming on borderlands and i will murder you...  \n",
       "3  im getting on borderlands 2 and i will murder ...  \n",
       "4  im getting into borderlands and i can murder y...  "
      ]
     },
     "execution_count": 5,
     "metadata": {},
     "output_type": "execute_result"
    }
   ],
   "source": [
    "data.head()"
   ]
  },
  {
   "cell_type": "code",
   "execution_count": 6,
   "id": "da35ac40-b476-4f9d-a40c-4f2e90613c53",
   "metadata": {},
   "outputs": [
    {
     "data": {
      "text/plain": [
       "id             0\n",
       "company        0\n",
       "Sentiment      0\n",
       "Review       686\n",
       "dtype: int64"
      ]
     },
     "execution_count": 6,
     "metadata": {},
     "output_type": "execute_result"
    }
   ],
   "source": [
    "data.isnull().sum()"
   ]
  },
  {
   "cell_type": "code",
   "execution_count": 7,
   "id": "61151ce3-acda-4607-adcc-a9a9109b1b6d",
   "metadata": {},
   "outputs": [
    {
     "data": {
      "text/plain": [
       "0        False\n",
       "1        False\n",
       "2        False\n",
       "3        False\n",
       "4        False\n",
       "         ...  \n",
       "74676    False\n",
       "74677    False\n",
       "74678    False\n",
       "74679    False\n",
       "74680    False\n",
       "Length: 74681, dtype: bool"
      ]
     },
     "execution_count": 7,
     "metadata": {},
     "output_type": "execute_result"
    }
   ],
   "source": [
    "dup = data.duplicated()\n",
    "dup"
   ]
  },
  {
   "cell_type": "code",
   "execution_count": 8,
   "id": "af607463-74dd-456d-aab2-888b1709f288",
   "metadata": {},
   "outputs": [
    {
     "name": "stdout",
     "output_type": "stream",
     "text": [
      "\n",
      "Column: company\n",
      "['Borderlands' 'CallOfDutyBlackopsColdWar' 'Amazon' 'Overwatch'\n",
      " 'Xbox(Xseries)' 'NBA2K' 'Dota2' 'PlayStation5(PS5)' 'WorldOfCraft'\n",
      " 'CS-GO' 'Google' 'AssassinsCreed' 'ApexLegends' 'LeagueOfLegends'\n",
      " 'Fortnite' 'Microsoft' 'Hearthstone' 'Battlefield'\n",
      " 'PlayerUnknownsBattlegrounds(PUBG)' 'Verizon' 'HomeDepot' 'FIFA'\n",
      " 'RedDeadRedemption(RDR)' 'CallOfDuty' 'TomClancysRainbowSix' 'Facebook'\n",
      " 'GrandTheftAuto(GTA)' 'MaddenNFL' 'johnson&johnson' 'Cyberpunk2077'\n",
      " 'TomClancysGhostRecon' 'Nvidia']\n",
      "\n",
      "Column: Sentiment\n",
      "['Positive' 'Neutral' 'Negative' 'Irrelevant']\n",
      "\n",
      "Column: Review\n",
      "['I am coming to the borders and I will kill you all,'\n",
      " 'im getting on borderlands and i will kill you all,'\n",
      " 'im coming on borderlands and i will murder you all,' ...\n",
      " 'Just realized the windows partition of my Mac is now 6 years behind on Nvidia drivers and I have no idea how he didn’t notice'\n",
      " 'Just realized between the windows partition of my Mac is like being 6 years behind on Nvidia drivers and cars I have no fucking idea how I ever didn ’ t notice'\n",
      " 'Just like the windows partition of my Mac is like 6 years behind on its drivers So you have no idea how I didn’t notice']\n"
     ]
    }
   ],
   "source": [
    "categorical_columns = data.select_dtypes(include='object').columns\n",
    "\n",
    "# Show unique values for each categorical column\n",
    "for col in categorical_columns:\n",
    "    print(f\"\\nColumn: {col}\")\n",
    "    print(data[col].unique())"
   ]
  },
  {
   "cell_type": "code",
   "execution_count": 9,
   "id": "4a0bcd84-91d8-4f0c-b2b8-2f54fd9d62f7",
   "metadata": {},
   "outputs": [
    {
     "name": "stdout",
     "output_type": "stream",
     "text": [
      "74681\n",
      "Sentiment Text -  ['Positive', 'Positive', 'Positive', 'Positive', 'Positive', 'Positive', 'Positive', 'Positive', 'Positive', 'Positive', 'Positive', 'Neutral', 'Neutral', 'Neutral', 'Neutral', 'Neutral', 'Neutral', 'Positive']\n",
      "Sentiment Numerical -  [0, 0, 0, 0, 0, 0, 0, 0, 0, 0, 0, 1, 1, 1, 1, 1, 1, 0]\n"
     ]
    }
   ],
   "source": [
    "# extracting data\n",
    "senti = data['Sentiment'].tolist()\n",
    "tweets = data['Review'].tolist()\n",
    "print(len(senti))\n",
    "\n",
    "custom_mapping = {\n",
    "    'Positive': 0,\n",
    "    'Neutral': 1,\n",
    "    'Negative': 2,\n",
    "    'Irrelevant': 3\n",
    "}\n",
    "sentiment_encoded = [custom_mapping[s] for s in senti]\n",
    "print('Sentiment Text - ', senti[:18])\n",
    "print('Sentiment Numerical - ', sentiment_encoded[:18])"
   ]
  },
  {
   "cell_type": "code",
   "execution_count": 10,
   "id": "9090ca95-dbe5-4a51-a4f1-7b1f6dd9b25a",
   "metadata": {},
   "outputs": [],
   "source": [
    "# text cleaning\n",
    "import re\n",
    "\n",
    "def clean_text(text):\n",
    "    if not isinstance(text, str):\n",
    "        text = \"\"\n",
    "    text = re.sub(r\"http\\S+\", \"\", text)\n",
    "    text = re.sub(r\"@\\w+\", \"\", text)\n",
    "    text = re.sub(r\"#\\w+\", \"\", text)\n",
    "    text = re.sub(r\"[^A-Za-z\\s]\", \"\", text)\n",
    "    text = text.lower()\n",
    "    \n",
    "    return text\n",
    "cleaned_tweets = [clean_text(t) for t in tweets]"
   ]
  },
  {
   "cell_type": "code",
   "execution_count": 11,
   "id": "d1e3eff7-c016-47a8-a12e-9c615b309db3",
   "metadata": {},
   "outputs": [],
   "source": [
    "from collections import Counter\n",
    "\n",
    "def create_vocabulary(texts):\n",
    "    all_tokens = []\n",
    "    for text in texts:\n",
    "        all_tokens.extend(text.split())\n",
    "\n",
    "    word_counts = Counter(all_tokens)\n",
    "    vocabulary = {word: idx + 1 for idx, (word, _) in enumerate(word_counts.items())}\n",
    "    vocabulary['<OOV>'] = 0\n",
    "\n",
    "    return vocabulary\n",
    "\n",
    "def texts_to_sequences(texts, vocabulary):\n",
    "    sequences = []\n",
    "    for text in texts:\n",
    "        tokens = text.split()\n",
    "        sequence = [vocabulary.get(token, vocabulary['<OOV>']) for token in tokens]\n",
    "        sequences.append(sequence)\n",
    "    return sequences\n",
    "\n",
    "def pad_sequences_custom(sequences, maxlen=100, padding='post'):\n",
    "    padded_sequences = []\n",
    "    for seq in sequences:\n",
    "        if padding == 'post':\n",
    "            padded_seq = seq[:maxlen] + [0] * (maxlen - len(seq)) if len(seq) < maxlen else seq[:maxlen]\n",
    "        if padding == 'pre':\n",
    "            padded_seq = [0] * (maxlen - len(seq)) + seq if len(seq) < maxlen else seq[:maxlen]\n",
    "        padded_sequences.append(padded_seq)\n",
    "    return padded_sequences\n"
   ]
  },
  {
   "cell_type": "code",
   "execution_count": 12,
   "id": "33600d16-8c28-42fe-b995-540e9b9e4045",
   "metadata": {},
   "outputs": [
    {
     "name": "stdout",
     "output_type": "stream",
     "text": [
      "[1, 2, 3, 4, 5, 6, 7, 1, 8, 9, 10, 11, 0, 0, 0, 0, 0, 0, 0, 0, 0, 0, 0, 0, 0, 0, 0, 0, 0, 0, 0, 0, 0, 0, 0, 0, 0, 0, 0, 0, 0, 0, 0, 0, 0, 0, 0, 0, 0, 0, 0, 0, 0, 0, 0, 0, 0, 0, 0, 0, 0, 0, 0, 0, 0, 0, 0, 0, 0, 0, 0, 0, 0, 0, 0, 0, 0, 0, 0, 0, 0, 0, 0, 0, 0, 0, 0, 0, 0, 0, 0, 0, 0, 0, 0, 0, 0, 0, 0, 0]\n"
     ]
    }
   ],
   "source": [
    "# tokenization of text (Because ML models dont work with text they only recognize numbers)\n",
    "\n",
    "# from tensorflow.keras.preprocessing.text import Tokenizer\n",
    "# from tensorflow.keras.preprocessing.sequence import pad_sequences\n",
    "\n",
    "# # OOV = out of vocabulary -- Used beacuse if the tokenizer doesnt recognize the word it the prevents the crashes\n",
    "# tokenizer = Tokenizer(num_words=5000, oov_token=\"<OOV>\") \n",
    "# tokenizer.fit_on_texts(cleaned_tweets)\n",
    "\n",
    "# # Convert text to sequences\n",
    "# sequences = tokenizer.texts_to_sequences(cleaned_tweets)\n",
    "\n",
    "# # Pad the sequences to make them the same length\n",
    "# padded_sequences = pad_sequences(sequences, padding='post', maxlen=100)  # maxlen=100 words per tweet\n",
    "\n",
    "\n",
    "# Step 1: Create the vocabulary from cleaned tweets\n",
    "vocabulary = create_vocabulary(cleaned_tweets)\n",
    "\n",
    "# Step 2: Convert texts to sequences based on the vocabulary\n",
    "sequences = texts_to_sequences(cleaned_tweets, vocabulary)\n",
    "\n",
    "# Step 3: Pad the sequences\n",
    "padded_sequences = pad_sequences_custom(sequences, maxlen=100, padding='post')\n",
    "print(padded_sequences[0])"
   ]
  },
  {
   "cell_type": "code",
   "execution_count": 13,
   "id": "d5b5de04-9dec-4e69-8ae2-97e22e8f36fb",
   "metadata": {},
   "outputs": [],
   "source": [
    "# Split the data into training and testing sets\n",
    "X_train, X_test, y_train, y_test = train_test_split(padded_sequences, sentiment_encoded, test_size=0.3)"
   ]
  },
  {
   "cell_type": "code",
   "execution_count": 22,
   "id": "eb441bf3-4597-4294-ae27-a012da604c51",
   "metadata": {},
   "outputs": [],
   "source": [
    "from tensorflow.keras import layers, models\n",
    "# Create the model\n",
    "model = models.Sequential([\n",
    "    # Embedding layer for word representations\n",
    "    layers.Embedding(input_dim=50000, output_dim=16),  # 5000 words, embedding size 16\n",
    "    \n",
    "    # Flatten layer to process sequences\n",
    "    layers.GlobalAveragePooling1D(),\n",
    "    \n",
    "    # Dense hidden layer\n",
    "    layers.Dense(16, activation='relu'),\n",
    "    \n",
    "    # Output layer for 4-class classification (Positive, Negative, Neutral, Irrelevant)\n",
    "    layers.Dense(4, activation='softmax')  # 4 classes, softmax activation\n",
    "])\n",
    "\n",
    "# Compile the model\n",
    "model.compile(optimizer='adam',\n",
    "              loss='sparse_categorical_crossentropy',  # For multi-class classification\n",
    "              metrics=['accuracy'])\n"
   ]
  },
  {
   "cell_type": "code",
   "execution_count": 26,
   "id": "200e0b18-769b-4f70-8655-61282c28a3da",
   "metadata": {},
   "outputs": [
    {
     "name": "stdout",
     "output_type": "stream",
     "text": [
      "Epoch 1/30\n",
      "\u001b[1m1634/1634\u001b[0m \u001b[32m━━━━━━━━━━━━━━━━━━━━\u001b[0m\u001b[37m\u001b[0m \u001b[1m13s\u001b[0m 8ms/step - accuracy: 0.8792 - loss: 0.3274 - val_accuracy: 0.7814 - val_loss: 0.5842\n",
      "Epoch 2/30\n",
      "\u001b[1m1634/1634\u001b[0m \u001b[32m━━━━━━━━━━━━━━━━━━━━\u001b[0m\u001b[37m\u001b[0m \u001b[1m13s\u001b[0m 8ms/step - accuracy: 0.8773 - loss: 0.3252 - val_accuracy: 0.7883 - val_loss: 0.5695\n",
      "Epoch 3/30\n",
      "\u001b[1m1634/1634\u001b[0m \u001b[32m━━━━━━━━━━━━━━━━━━━━\u001b[0m\u001b[37m\u001b[0m \u001b[1m13s\u001b[0m 8ms/step - accuracy: 0.8881 - loss: 0.3032 - val_accuracy: 0.8102 - val_loss: 0.5160\n",
      "Epoch 4/30\n",
      "\u001b[1m1634/1634\u001b[0m \u001b[32m━━━━━━━━━━━━━━━━━━━━\u001b[0m\u001b[37m\u001b[0m \u001b[1m13s\u001b[0m 8ms/step - accuracy: 0.8938 - loss: 0.2910 - val_accuracy: 0.8194 - val_loss: 0.4933\n",
      "Epoch 5/30\n",
      "\u001b[1m1634/1634\u001b[0m \u001b[32m━━━━━━━━━━━━━━━━━━━━\u001b[0m\u001b[37m\u001b[0m \u001b[1m13s\u001b[0m 8ms/step - accuracy: 0.8976 - loss: 0.2782 - val_accuracy: 0.8062 - val_loss: 0.5357\n",
      "Epoch 6/30\n",
      "\u001b[1m1634/1634\u001b[0m \u001b[32m━━━━━━━━━━━━━━━━━━━━\u001b[0m\u001b[37m\u001b[0m \u001b[1m13s\u001b[0m 8ms/step - accuracy: 0.8970 - loss: 0.2782 - val_accuracy: 0.7880 - val_loss: 0.5498\n",
      "Epoch 7/30\n",
      "\u001b[1m1634/1634\u001b[0m \u001b[32m━━━━━━━━━━━━━━━━━━━━\u001b[0m\u001b[37m\u001b[0m \u001b[1m13s\u001b[0m 8ms/step - accuracy: 0.8993 - loss: 0.2729 - val_accuracy: 0.8196 - val_loss: 0.4957\n"
     ]
    }
   ],
   "source": [
    "# Convert lists to NumPy arrays\n",
    "X_train = np.array(X_train)\n",
    "y_train = np.array(y_train)\n",
    "X_test = np.array(X_test)\n",
    "y_test = np.array(y_test)\n",
    "\n",
    "from tensorflow.keras.callbacks import EarlyStopping\n",
    "# for preventing overFitting\n",
    "early_stop = EarlyStopping(monitor='val_loss', \n",
    "                            patience=3, \n",
    "                            restore_best_weights=True)\n",
    "\n",
    "# Train the model\n",
    "history = model.fit(X_train, \n",
    "                    y_train, \n",
    "                    epochs=30,  # Number of epochs (iterations over the entire dataset)\n",
    "                    batch_size=32,  # Number of samples per gradient update\n",
    "                    validation_data=(X_test, y_test),\n",
    "                    callbacks = [early_stop])  # Use validation data to evaluate during training"
   ]
  },
  {
   "cell_type": "code",
   "execution_count": 27,
   "id": "fa006def-82f5-47bf-b542-81e48c0e179c",
   "metadata": {},
   "outputs": [
    {
     "data": {
      "image/png": "[encoded data removed]",
      "text/plain": [
       "<Figure size 1200x600 with 2 Axes>"
      ]
     },
     "metadata": {},
     "output_type": "display_data"
    }
   ],
   "source": [
    "import matplotlib.pyplot as plt\n",
    "\n",
    "# Plot training & validation accuracy values\n",
    "plt.figure(figsize=(12, 6))\n",
    "\n",
    "# Plot accuracy\n",
    "plt.subplot(1, 2, 1)\n",
    "plt.plot(history.history['accuracy'])\n",
    "plt.plot(history.history['val_accuracy'])\n",
    "plt.title('Model Accuracy')\n",
    "plt.xlabel('Epochs')\n",
    "plt.ylabel('Accuracy')\n",
    "plt.legend(['Train', 'Test'], loc='upper left')\n",
    "\n",
    "# Plot loss\n",
    "plt.subplot(1, 2, 2)\n",
    "plt.plot(history.history['loss'])\n",
    "plt.plot(history.history['val_loss'])\n",
    "plt.title('Model Loss')\n",
    "plt.xlabel('Epochs')\n",
    "plt.ylabel('Loss')\n",
    "plt.legend(['Train', 'Test'], loc='upper left')\n",
    "\n",
    "plt.tight_layout()\n",
    "plt.show()\n"
   ]
  },
  {
   "cell_type": "code",
   "execution_count": 30,
   "id": "6fc8532d-b8aa-4c4b-a40b-9ef6134e0fe5",
   "metadata": {},
   "outputs": [
    {
     "name": "stdin",
     "output_type": "stream",
     "text": [
      "Enter a tweet to analyze its sentiment:  what if i fail you in this product\n"
     ]
    },
    {
     "name": "stdout",
     "output_type": "stream",
     "text": [
      "\u001b[1m1/1\u001b[0m \u001b[32m━━━━━━━━━━━━━━━━━━━━\u001b[0m\u001b[37m\u001b[0m \u001b[1m0s\u001b[0m 46ms/step\n",
      "The sentiment of the tweet is: Negative\n"
     ]
    }
   ],
   "source": [
    "import numpy as np\n",
    "\n",
    "def predict_sentiment_custom(user_input, vocabulary, model):\n",
    "    cleaned_input = clean_text(user_input)\n",
    "    input_sequence = texts_to_sequences([cleaned_input], vocabulary)\n",
    "    padded_input = pad_sequences_custom(input_sequence, maxlen=100, padding='post')\n",
    "\n",
    "    padded_input = np.array(padded_input)\n",
    "    prediction = model.predict(padded_input)\n",
    "    sentiment_class = np.argmax(prediction, axis=1)[0]\n",
    "    \n",
    "    sentiment_labels = ['Positive', 'Neutral', 'Negative', 'Irrelevant']\n",
    "    \n",
    "    return sentiment_labels[sentiment_class]\n",
    "\n",
    "user_input = input(\"Enter a tweet to analyze its sentiment: \")\n",
    "result = predict_sentiment_custom(user_input, vocabulary, model)\n",
    "print(f\"The sentiment of the tweet is: {result}\")\n"
   ]
  },
  {
   "cell_type": "code",
   "execution_count": 31,
   "id": "c26afe90-f400-459a-9f47-58c98719df16",
   "metadata": {},
   "outputs": [
    {
     "data": {
      "text/html": [
       "<div>\n",
       "<style scoped>\n",
       "    .dataframe tbody tr th:only-of-type {\n",
       "        vertical-align: middle;\n",
       "    }\n",
       "\n",
       "    .dataframe tbody tr th {\n",
       "        vertical-align: top;\n",
       "    }\n",
       "\n",
       "    .dataframe thead th {\n",
       "        text-align: right;\n",
       "    }\n",
       "</style>\n",
       "<table border=\"1\" class=\"dataframe\">\n",
       "  <thead>\n",
       "    <tr style=\"text-align: right;\">\n",
       "      <th></th>\n",
       "      <th>3364</th>\n",
       "      <th>Facebook</th>\n",
       "      <th>Irrelevant</th>\n",
       "      <th>I mentioned on Facebook that I was struggling for motivation to go for a run the other day, which has been translated by Tom’s great auntie as ‘Hayley can’t get out of bed’ and told to his grandma, who now thinks I’m a lazy, terrible person 🤣</th>\n",
       "    </tr>\n",
       "  </thead>\n",
       "  <tbody>\n",
       "    <tr>\n",
       "      <th>0</th>\n",
       "      <td>352</td>\n",
       "      <td>Amazon</td>\n",
       "      <td>Neutral</td>\n",
       "      <td>BBC News - Amazon boss Jeff Bezos rejects clai...</td>\n",
       "    </tr>\n",
       "    <tr>\n",
       "      <th>1</th>\n",
       "      <td>8312</td>\n",
       "      <td>Microsoft</td>\n",
       "      <td>Negative</td>\n",
       "      <td>@Microsoft Why do I pay for WORD when it funct...</td>\n",
       "    </tr>\n",
       "    <tr>\n",
       "      <th>2</th>\n",
       "      <td>4371</td>\n",
       "      <td>CS-GO</td>\n",
       "      <td>Negative</td>\n",
       "      <td>CSGO matchmaking is so full of closet hacking,...</td>\n",
       "    </tr>\n",
       "    <tr>\n",
       "      <th>3</th>\n",
       "      <td>4433</td>\n",
       "      <td>Google</td>\n",
       "      <td>Neutral</td>\n",
       "      <td>Now the President is slapping Americans in the...</td>\n",
       "    </tr>\n",
       "    <tr>\n",
       "      <th>4</th>\n",
       "      <td>6273</td>\n",
       "      <td>FIFA</td>\n",
       "      <td>Negative</td>\n",
       "      <td>Hi @EAHelp I’ve had Madeleine McCann in my cel...</td>\n",
       "    </tr>\n",
       "  </tbody>\n",
       "</table>\n",
       "</div>"
      ],
      "text/plain": [
       "   3364   Facebook Irrelevant  \\\n",
       "0   352     Amazon    Neutral   \n",
       "1  8312  Microsoft   Negative   \n",
       "2  4371      CS-GO   Negative   \n",
       "3  4433     Google    Neutral   \n",
       "4  6273       FIFA   Negative   \n",
       "\n",
       "  I mentioned on Facebook that I was struggling for motivation to go for a run the other day, which has been translated by Tom’s great auntie as ‘Hayley can’t get out of bed’ and told to his grandma, who now thinks I’m a lazy, terrible person 🤣  \n",
       "0  BBC News - Amazon boss Jeff Bezos rejects clai...                                                                                                                                                                                                  \n",
       "1  @Microsoft Why do I pay for WORD when it funct...                                                                                                                                                                                                  \n",
       "2  CSGO matchmaking is so full of closet hacking,...                                                                                                                                                                                                  \n",
       "3  Now the President is slapping Americans in the...                                                                                                                                                                                                  \n",
       "4  Hi @EAHelp I’ve had Madeleine McCann in my cel...                                                                                                                                                                                                  "
      ]
     },
     "execution_count": 31,
     "metadata": {},
     "output_type": "execute_result"
    }
   ],
   "source": [
    "# checking the model with validation .csv file\n",
    "\n",
    "data_validation = pd.read_csv('twitter_validation.csv')\n",
    "data_validation.head()"
   ]
  },
  {
   "cell_type": "code",
   "execution_count": 32,
   "id": "082dbce4-b1f7-45c1-9e05-0291895006ac",
   "metadata": {},
   "outputs": [],
   "source": [
    "data_validation.columns = ['id', 'company', 'Sentiment', 'Tweet']"
   ]
  },
  {
   "cell_type": "code",
   "execution_count": 33,
   "id": "ce281f58-9ae1-4832-b2fc-fe608836f5f3",
   "metadata": {},
   "outputs": [],
   "source": [
    "tweets_val = data_validation['Tweet'].tolist()\n",
    "sentiments_val = data_validation['Sentiment'].tolist()"
   ]
  },
  {
   "cell_type": "code",
   "execution_count": 37,
   "id": "7b0ef06f-72f3-4561-b598-f88e6a25690f",
   "metadata": {},
   "outputs": [
    {
     "name": "stdout",
     "output_type": "stream",
     "text": [
      "\u001b[1m32/32\u001b[0m \u001b[32m━━━━━━━━━━━━━━━━━━━━\u001b[0m\u001b[37m\u001b[0m \u001b[1m0s\u001b[0m 4ms/step\n",
      "The model predicted with accuracy of 93.19%\n"
     ]
    }
   ],
   "source": [
    "cleaned_tweets = [clean_text(tweet) for tweet in tweets_val]\n",
    "input_sequences = texts_to_sequences(cleaned_tweets, vocabulary)\n",
    "padded_inputs = pad_sequences_custom(input_sequences, maxlen=100, padding='post')\n",
    "\n",
    "padded_inputs = np.array(padded_inputs)\n",
    "\n",
    "predictions = model.predict(padded_inputs)\n",
    "\n",
    "predicted_classes = np.argmax(predictions, axis=1)\n",
    "\n",
    "correct = 0\n",
    "total = len(tweets_val)\n",
    "\n",
    "for i in range(total):\n",
    "    predicted_label = predicted_classes[i]\n",
    "    true_label = sentiments_val[i]\n",
    "    true_label = custom_mapping[sentiments_val[i]]\n",
    "    if predicted_label == true_label:\n",
    "        correct += 1\n",
    "\n",
    "accuracy = (correct / total) * 100\n",
    "print(f'The model predicted with accuracy of {accuracy:.2f}%')\n"
   ]
  },
  {
   "cell_type": "code",
   "execution_count": 39,
   "id": "a103e7c7-b443-4f8a-8f41-1a24bcff2cc9",
   "metadata": {},
   "outputs": [],
   "source": [
    "# Saving Model\n",
    "\n",
    "model.save('sentiment_analyzer.keras')"
   ]
  },
  {
   "cell_type": "code",
   "execution_count": null,
   "id": "60e7a690-a834-407b-b95f-28314e19ca9f",
   "metadata": {},
   "outputs": [],
   "source": []
  }
 ],
 "metadata": {
  "kernelspec": {
   "display_name": "Python 3 (ipykernel)",
   "language": "python",
   "name": "python3"
  },
  "language_info": {
   "codemirror_mode": {
    "name": "ipython",
    "version": 3
   },
   "file_extension": ".py",
   "mimetype": "text/x-python",
   "name": "python",
   "nbconvert_exporter": "python",
   "pygments_lexer": "ipython3",
   "version": "3.10.11"
  }
 },
 "nbformat": 4,
 "nbformat_minor": 5
}
